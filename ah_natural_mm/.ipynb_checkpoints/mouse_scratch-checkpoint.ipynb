{
 "cells": [
  {
   "cell_type": "code",
   "execution_count": 25,
   "metadata": {},
   "outputs": [],
   "source": [
    "# !pip install fastai"
   ]
  },
  {
   "cell_type": "code",
   "execution_count": 24,
   "metadata": {
    "id": "b_dkWQHY33bO"
   },
   "outputs": [],
   "source": [
    "# !pip freeze\n"
   ]
  },
  {
   "cell_type": "code",
   "execution_count": 1,
   "metadata": {
    "colab": {
     "base_uri": "https://localhost:8080/"
    },
    "id": "Fwbt23K85qU2",
    "outputId": "a49e9903-b906-47dd-d373-7262ce96b1e3"
   },
   "outputs": [],
   "source": [
    "# from google.colab import drive\n",
    "# drive.mount('/gdrive')\n",
    "    \n",
    "# %cd /gdrive/MyDrive/Colab\\ Notebooks/mouse training\n",
    "\n",
    "import fastai\n",
    "import pandas as pd\n",
    "import torch\n",
    "import sklearn\n",
    "import pandas as pd\n",
    "from pathlib import Path\n",
    "from fastai.tabular.all import *"
   ]
  },
  {
   "cell_type": "code",
   "execution_count": 2,
   "metadata": {
    "id": "LG1nxPwE-ZxS"
   },
   "outputs": [],
   "source": [
    "import numpy as np\n",
    "import math\n",
    "import matplotlib.pyplot as plt"
   ]
  },
  {
   "cell_type": "code",
   "execution_count": 3,
   "metadata": {
    "id": "onsi0fmb4Rig"
   },
   "outputs": [
    {
     "data": {
      "text/plain": [
       "25"
      ]
     },
     "execution_count": 3,
     "metadata": {},
     "output_type": "execute_result"
    }
   ],
   "source": [
    "5*5\n"
   ]
  },
  {
   "cell_type": "code",
   "execution_count": null,
   "metadata": {
    "id": "lwcBdvR34Wnj"
   },
   "outputs": [],
   "source": [
    "# !pip install fastbook"
   ]
  },
  {
   "cell_type": "code",
   "execution_count": null,
   "metadata": {
    "id": "8xdFVa5X4VUI"
   },
   "outputs": [],
   "source": [
    "# import fastbook\n"
   ]
  },
  {
   "cell_type": "markdown",
   "metadata": {
    "id": "aj9he9ifIzZQ"
   },
   "source": [
    "#Load and Pre-Process the Data"
   ]
  },
  {
   "cell_type": "code",
   "execution_count": 4,
   "metadata": {
    "colab": {
     "base_uri": "https://localhost:8080/",
     "height": 206
    },
    "id": "ftROYAJr4wBp",
    "outputId": "913a1375-57a0-46e1-cd89-c460b1f68565"
   },
   "outputs": [
    {
     "data": {
      "text/html": [
       "<div>\n",
       "<style scoped>\n",
       "    .dataframe tbody tr th:only-of-type {\n",
       "        vertical-align: middle;\n",
       "    }\n",
       "\n",
       "    .dataframe tbody tr th {\n",
       "        vertical-align: top;\n",
       "    }\n",
       "\n",
       "    .dataframe thead th {\n",
       "        text-align: right;\n",
       "    }\n",
       "</style>\n",
       "<table border=\"1\" class=\"dataframe\">\n",
       "  <thead>\n",
       "    <tr style=\"text-align: right;\">\n",
       "      <th></th>\n",
       "      <th>x</th>\n",
       "      <th>y</th>\n",
       "      <th>t</th>\n",
       "      <th>click</th>\n",
       "    </tr>\n",
       "  </thead>\n",
       "  <tbody>\n",
       "    <tr>\n",
       "      <th>0</th>\n",
       "      <td>2409</td>\n",
       "      <td>610</td>\n",
       "      <td>13476.179317</td>\n",
       "      <td>0</td>\n",
       "    </tr>\n",
       "    <tr>\n",
       "      <th>1</th>\n",
       "      <td>2410</td>\n",
       "      <td>610</td>\n",
       "      <td>13476.180224</td>\n",
       "      <td>0</td>\n",
       "    </tr>\n",
       "    <tr>\n",
       "      <th>2</th>\n",
       "      <td>2410</td>\n",
       "      <td>608</td>\n",
       "      <td>13476.183262</td>\n",
       "      <td>0</td>\n",
       "    </tr>\n",
       "    <tr>\n",
       "      <th>3</th>\n",
       "      <td>2411</td>\n",
       "      <td>608</td>\n",
       "      <td>13476.185164</td>\n",
       "      <td>0</td>\n",
       "    </tr>\n",
       "    <tr>\n",
       "      <th>4</th>\n",
       "      <td>2411</td>\n",
       "      <td>607</td>\n",
       "      <td>13476.187189</td>\n",
       "      <td>0</td>\n",
       "    </tr>\n",
       "  </tbody>\n",
       "</table>\n",
       "</div>"
      ],
      "text/plain": [
       "      x    y             t  click\n",
       "0  2409  610  13476.179317      0\n",
       "1  2410  610  13476.180224      0\n",
       "2  2410  608  13476.183262      0\n",
       "3  2411  608  13476.185164      0\n",
       "4  2411  607  13476.187189      0"
      ]
     },
     "execution_count": 4,
     "metadata": {},
     "output_type": "execute_result"
    }
   ],
   "source": [
    "df = pd.read_csv(\"/home/adam/PycharmProjects/Automation/data/mouse_training/22_01_2022.csv\")\n",
    "df.columns = ['x','y','t','click']\n",
    "df.head()"
   ]
  },
  {
   "cell_type": "code",
   "execution_count": 6,
   "metadata": {
    "colab": {
     "base_uri": "https://localhost:8080/"
    },
    "id": "Uy2Cj4H85Ibp",
    "outputId": "d60e62d9-e85a-4ab1-b131-643318c8ef77"
   },
   "outputs": [
    {
     "data": {
      "text/plain": [
       "(1261689, 4)"
      ]
     },
     "execution_count": 6,
     "metadata": {},
     "output_type": "execute_result"
    }
   ],
   "source": [
    "df.shape"
   ]
  },
  {
   "cell_type": "code",
   "execution_count": 155,
   "metadata": {
    "id": "cjsDi85_7TI6"
   },
   "outputs": [],
   "source": [
    "df.loc[df['click'] == 1].shape\n",
    "\n",
    "#loop through the dataframe to find the book-ends of each mouse click\n",
    "# and have those be the 'input' variables, and then all of the in between clicks the \n",
    "# output variables that we'll then train against\n",
    "started_loop = False\n",
    "structured_rows = []\n",
    "for _, row in df.iterrows():\n",
    "    if row['click'] == 1:\n",
    "        if started_loop:\n",
    "            current_structured_input.append((row['x'], row['y']))\n",
    "            structured_rows.append((current_structured_input, current_structured_ouput, len(current_structured_ouput), row['t'] - time_offset))\n",
    "        current_structured_ouput = []\n",
    "        current_structured_input = [(row['x'], row['y'])]\n",
    "        time_offset = row['t']\n",
    "        started_loop = True\n",
    "        \n",
    "    if started_loop:\n",
    "        current_structured_ouput.append((row['x'], row['y'], row['t'] - time_offset))\n",
    "\n",
    "struct_df = pd.DataFrame(structured_rows)\n",
    "struct_df.columns = ['endpoints', 'moves', 'num_moves', 'time']"
   ]
  },
  {
   "cell_type": "code",
   "execution_count": 10,
   "metadata": {
    "colab": {
     "base_uri": "https://localhost:8080/",
     "height": 206
    },
    "id": "xTm8cG7zDsXp",
    "outputId": "d7e8b0a0-de82-40e6-a5bd-1d8b674af08d"
   },
   "outputs": [
    {
     "data": {
      "text/html": [
       "<div>\n",
       "<style scoped>\n",
       "    .dataframe tbody tr th:only-of-type {\n",
       "        vertical-align: middle;\n",
       "    }\n",
       "\n",
       "    .dataframe tbody tr th {\n",
       "        vertical-align: top;\n",
       "    }\n",
       "\n",
       "    .dataframe thead th {\n",
       "        text-align: right;\n",
       "    }\n",
       "</style>\n",
       "<table border=\"1\" class=\"dataframe\">\n",
       "  <thead>\n",
       "    <tr style=\"text-align: right;\">\n",
       "      <th></th>\n",
       "      <th>endpoints</th>\n",
       "      <th>moves</th>\n",
       "      <th>num_moves</th>\n",
       "      <th>time</th>\n",
       "    </tr>\n",
       "  </thead>\n",
       "  <tbody>\n",
       "    <tr>\n",
       "      <th>0</th>\n",
       "      <td>[(2012.0, 1037.0), (3749.0, 18.0)]</td>\n",
       "      <td>[(2012.0, 1037.0, 0.0), (2011.0, 1037.0, 0.10077786445617676), (2012.0, 1037.0, 0.27376604080200195), (2012.0, 1037.0, 0.2845008373260498), (2013.0, 1037.0, 0.2907142639160156), (2014.0, 1037.0, 0.2966609001159668), (2014.0, 1036.0, 0.2974541187286377), (2016.0, 1036.0, 0.30153536796569824), (2017.0, 1036.0, 0.3076975345629762), (2018.0, 1036.0, 0.3116309642791748), (2018.0, 1035.0, 0.3124566078186035), (2019.0, 1035.0, 0.3165128231066774), (2020.0, 1035.0, 0.32151174545469985), (2021.0, 1035.0, 0.3266334533691406), (2021.0, 1034.0, 0.3285355567950319), (2022.0, 1034.0, 0.33249807357788086...</td>\n",
       "      <td>644</td>\n",
       "      <td>1.636974</td>\n",
       "    </tr>\n",
       "    <tr>\n",
       "      <th>1</th>\n",
       "      <td>[(3749.0, 18.0), (2703.0, 687.0)]</td>\n",
       "      <td>[(3749.0, 18.0, 0.0), (3749.0, 18.0, 0.4386763572692871), (3748.0, 18.0, 0.4486064910888672), (3747.0, 19.0, 0.45251107216063247), (3746.0, 19.0, 0.45662569999694824), (3745.0, 20.0, 0.45937085151672363), (3744.0, 20.0, 0.4617609977722168), (3744.0, 21.0, 0.4624443054199219), (3743.0, 21.0, 0.46344971656799316), (3741.0, 22.0, 0.4654748439807008), (3740.0, 22.0, 0.46753525733947754), (3739.0, 23.0, 0.46964049339294434), (3738.0, 23.0, 0.4714946746844362), (3737.0, 25.0, 0.47246408462342515), (3736.0, 25.0, 0.47480273246765137), (3736.0, 26.0, 0.4754676818847656), (3734.0, 26.0, 0.476455688...</td>\n",
       "      <td>982</td>\n",
       "      <td>4.342829</td>\n",
       "    </tr>\n",
       "    <tr>\n",
       "      <th>2</th>\n",
       "      <td>[(2703.0, 687.0), (1743.0, 342.0)]</td>\n",
       "      <td>[(2703.0, 687.0, 0.0), (2703.0, 687.0, 0.6937158107757568), (2704.0, 687.0, 0.6945643424987793), (2704.0, 685.0, 0.6985442638397217), (2705.0, 684.0, 0.7065896987933229), (2705.0, 683.0, 0.712648868560791), (2706.0, 683.0, 0.7155590057373047), (2706.0, 682.0, 0.7194476127624512), (2707.0, 682.0, 0.7234554290771484), (2707.0, 681.0, 0.7265076637268066), (2708.0, 680.0, 0.7331438064557005), (2708.0, 679.0, 0.7375011444091797), (2709.0, 679.0, 0.7394728660583496), (2709.0, 678.0, 0.7425401210784912), (2710.0, 677.0, 0.7465536594409059), (2710.0, 676.0, 0.7506110668182373), (2711.0, 676.0, 0.7...</td>\n",
       "      <td>2285</td>\n",
       "      <td>20.768361</td>\n",
       "    </tr>\n",
       "    <tr>\n",
       "      <th>3</th>\n",
       "      <td>[(1743.0, 342.0), (2840.0, 702.0)]</td>\n",
       "      <td>[(1743.0, 342.0, 0.0), (1743.0, 342.0, 0.20471119880858168), (1743.0, 343.0, 0.20708179474058852), (1744.0, 343.0, 0.21051526069823012), (1744.0, 344.0, 0.21251559257689223), (1745.0, 344.0, 0.2167360782641481), (1746.0, 345.0, 0.21954917907896743), (1747.0, 345.0, 0.22363018989744887), (1747.0, 346.0, 0.2245020866412233), (1748.0, 346.0, 0.22618484497252211), (1749.0, 346.0, 0.2295238971728395), (1749.0, 347.0, 0.23148679733458266), (1750.0, 347.0, 0.23244905471983657), (1752.0, 347.0, 0.23453927040281997), (1753.0, 348.0, 0.23651909828549833), (1754.0, 348.0, 0.23959994316282973), (1755....</td>\n",
       "      <td>822</td>\n",
       "      <td>1.587966</td>\n",
       "    </tr>\n",
       "    <tr>\n",
       "      <th>4</th>\n",
       "      <td>[(2840.0, 702.0), (1815.0, 570.0)]</td>\n",
       "      <td>[(2840.0, 702.0, 0.0), (2840.0, 702.0, 0.2697141170501709), (2840.0, 701.0, 0.28260087966737046), (2839.0, 701.0, 0.291576623916626), (2839.0, 700.0, 0.30771398544311523), (2839.0, 699.0, 0.3527102470397949), (2839.0, 699.0, 0.37573742866334214), (2839.0, 698.0, 0.3765428066253662), (2839.0, 697.0, 0.3957047462481569), (2839.0, 696.0, 0.40970730781555176), (2838.0, 696.0, 0.4125783443432738), (2838.0, 695.0, 0.424640417098999), (2838.0, 694.0, 0.44215083122435317), (2837.0, 694.0, 0.44252443313598633), (2837.0, 693.0, 0.456679105758667), (2837.0, 692.0, 0.47074079513549805), (2836.0, 692.0...</td>\n",
       "      <td>788</td>\n",
       "      <td>4.060469</td>\n",
       "    </tr>\n",
       "  </tbody>\n",
       "</table>\n",
       "</div>"
      ],
      "text/plain": [
       "                            endpoints  \\\n",
       "0  [(2012.0, 1037.0), (3749.0, 18.0)]   \n",
       "1   [(3749.0, 18.0), (2703.0, 687.0)]   \n",
       "2  [(2703.0, 687.0), (1743.0, 342.0)]   \n",
       "3  [(1743.0, 342.0), (2840.0, 702.0)]   \n",
       "4  [(2840.0, 702.0), (1815.0, 570.0)]   \n",
       "\n",
       "                                                                                                                                                                                                                                                                                                                                                                                                                                                                                                                                                                                                                     moves  \\\n",
       "0  [(2012.0, 1037.0, 0.0), (2011.0, 1037.0, 0.10077786445617676), (2012.0, 1037.0, 0.27376604080200195), (2012.0, 1037.0, 0.2845008373260498), (2013.0, 1037.0, 0.2907142639160156), (2014.0, 1037.0, 0.2966609001159668), (2014.0, 1036.0, 0.2974541187286377), (2016.0, 1036.0, 0.30153536796569824), (2017.0, 1036.0, 0.3076975345629762), (2018.0, 1036.0, 0.3116309642791748), (2018.0, 1035.0, 0.3124566078186035), (2019.0, 1035.0, 0.3165128231066774), (2020.0, 1035.0, 0.32151174545469985), (2021.0, 1035.0, 0.3266334533691406), (2021.0, 1034.0, 0.3285355567950319), (2022.0, 1034.0, 0.33249807357788086...   \n",
       "1  [(3749.0, 18.0, 0.0), (3749.0, 18.0, 0.4386763572692871), (3748.0, 18.0, 0.4486064910888672), (3747.0, 19.0, 0.45251107216063247), (3746.0, 19.0, 0.45662569999694824), (3745.0, 20.0, 0.45937085151672363), (3744.0, 20.0, 0.4617609977722168), (3744.0, 21.0, 0.4624443054199219), (3743.0, 21.0, 0.46344971656799316), (3741.0, 22.0, 0.4654748439807008), (3740.0, 22.0, 0.46753525733947754), (3739.0, 23.0, 0.46964049339294434), (3738.0, 23.0, 0.4714946746844362), (3737.0, 25.0, 0.47246408462342515), (3736.0, 25.0, 0.47480273246765137), (3736.0, 26.0, 0.4754676818847656), (3734.0, 26.0, 0.476455688...   \n",
       "2  [(2703.0, 687.0, 0.0), (2703.0, 687.0, 0.6937158107757568), (2704.0, 687.0, 0.6945643424987793), (2704.0, 685.0, 0.6985442638397217), (2705.0, 684.0, 0.7065896987933229), (2705.0, 683.0, 0.712648868560791), (2706.0, 683.0, 0.7155590057373047), (2706.0, 682.0, 0.7194476127624512), (2707.0, 682.0, 0.7234554290771484), (2707.0, 681.0, 0.7265076637268066), (2708.0, 680.0, 0.7331438064557005), (2708.0, 679.0, 0.7375011444091797), (2709.0, 679.0, 0.7394728660583496), (2709.0, 678.0, 0.7425401210784912), (2710.0, 677.0, 0.7465536594409059), (2710.0, 676.0, 0.7506110668182373), (2711.0, 676.0, 0.7...   \n",
       "3  [(1743.0, 342.0, 0.0), (1743.0, 342.0, 0.20471119880858168), (1743.0, 343.0, 0.20708179474058852), (1744.0, 343.0, 0.21051526069823012), (1744.0, 344.0, 0.21251559257689223), (1745.0, 344.0, 0.2167360782641481), (1746.0, 345.0, 0.21954917907896743), (1747.0, 345.0, 0.22363018989744887), (1747.0, 346.0, 0.2245020866412233), (1748.0, 346.0, 0.22618484497252211), (1749.0, 346.0, 0.2295238971728395), (1749.0, 347.0, 0.23148679733458266), (1750.0, 347.0, 0.23244905471983657), (1752.0, 347.0, 0.23453927040281997), (1753.0, 348.0, 0.23651909828549833), (1754.0, 348.0, 0.23959994316282973), (1755....   \n",
       "4  [(2840.0, 702.0, 0.0), (2840.0, 702.0, 0.2697141170501709), (2840.0, 701.0, 0.28260087966737046), (2839.0, 701.0, 0.291576623916626), (2839.0, 700.0, 0.30771398544311523), (2839.0, 699.0, 0.3527102470397949), (2839.0, 699.0, 0.37573742866334214), (2839.0, 698.0, 0.3765428066253662), (2839.0, 697.0, 0.3957047462481569), (2839.0, 696.0, 0.40970730781555176), (2838.0, 696.0, 0.4125783443432738), (2838.0, 695.0, 0.424640417098999), (2838.0, 694.0, 0.44215083122435317), (2837.0, 694.0, 0.44252443313598633), (2837.0, 693.0, 0.456679105758667), (2837.0, 692.0, 0.47074079513549805), (2836.0, 692.0...   \n",
       "\n",
       "   num_moves       time  \n",
       "0        644   1.636974  \n",
       "1        982   4.342829  \n",
       "2       2285  20.768361  \n",
       "3        822   1.587966  \n",
       "4        788   4.060469  "
      ]
     },
     "execution_count": 10,
     "metadata": {},
     "output_type": "execute_result"
    }
   ],
   "source": [
    "struct_df.head()"
   ]
  },
  {
   "cell_type": "code",
   "execution_count": 11,
   "metadata": {
    "id": "pE9qjJpMFBFd"
   },
   "outputs": [],
   "source": [
    "struct_df['distance'] = struct_df['endpoints'].apply(lambda x: np.linalg.norm(np.array(x[0]) - np.array(x[1])))\n",
    "\n",
    "trimmed_df = struct_df.loc[struct_df.iloc[:,1].apply(len) != 1]\n",
    "\n",
    "trimmed_df = trimmed_df.loc[~(abs(trimmed_df['time']) > 10)]"
   ]
  },
  {
   "cell_type": "code",
   "execution_count": 14,
   "metadata": {
    "colab": {
     "base_uri": "https://localhost:8080/",
     "height": 206
    },
    "id": "fBDsPftPEK3T",
    "outputId": "c6b70cd2-eb1c-4abf-9563-125451d97db3"
   },
   "outputs": [
    {
     "data": {
      "text/html": [
       "<div>\n",
       "<style scoped>\n",
       "    .dataframe tbody tr th:only-of-type {\n",
       "        vertical-align: middle;\n",
       "    }\n",
       "\n",
       "    .dataframe tbody tr th {\n",
       "        vertical-align: top;\n",
       "    }\n",
       "\n",
       "    .dataframe thead th {\n",
       "        text-align: right;\n",
       "    }\n",
       "</style>\n",
       "<table border=\"1\" class=\"dataframe\">\n",
       "  <thead>\n",
       "    <tr style=\"text-align: right;\">\n",
       "      <th></th>\n",
       "      <th>endpoints</th>\n",
       "      <th>moves</th>\n",
       "      <th>num_moves</th>\n",
       "      <th>time</th>\n",
       "      <th>distance</th>\n",
       "    </tr>\n",
       "  </thead>\n",
       "  <tbody>\n",
       "    <tr>\n",
       "      <th>0</th>\n",
       "      <td>[(2012.0, 1037.0), (3749.0, 18.0)]</td>\n",
       "      <td>[(2012.0, 1037.0, 0.0), (2011.0, 1037.0, 0.10077786445617676), (2012.0, 1037.0, 0.27376604080200195), (2012.0, 1037.0, 0.2845008373260498), (2013.0, 1037.0, 0.2907142639160156), (2014.0, 1037.0, 0.2966609001159668), (2014.0, 1036.0, 0.2974541187286377), (2016.0, 1036.0, 0.30153536796569824), (2017.0, 1036.0, 0.3076975345629762), (2018.0, 1036.0, 0.3116309642791748), (2018.0, 1035.0, 0.3124566078186035), (2019.0, 1035.0, 0.3165128231066774), (2020.0, 1035.0, 0.32151174545469985), (2021.0, 1035.0, 0.3266334533691406), (2021.0, 1034.0, 0.3285355567950319), (2022.0, 1034.0, 0.33249807357788086...</td>\n",
       "      <td>644</td>\n",
       "      <td>1.636974</td>\n",
       "      <td>2013.834651</td>\n",
       "    </tr>\n",
       "    <tr>\n",
       "      <th>1</th>\n",
       "      <td>[(3749.0, 18.0), (2703.0, 687.0)]</td>\n",
       "      <td>[(3749.0, 18.0, 0.0), (3749.0, 18.0, 0.4386763572692871), (3748.0, 18.0, 0.4486064910888672), (3747.0, 19.0, 0.45251107216063247), (3746.0, 19.0, 0.45662569999694824), (3745.0, 20.0, 0.45937085151672363), (3744.0, 20.0, 0.4617609977722168), (3744.0, 21.0, 0.4624443054199219), (3743.0, 21.0, 0.46344971656799316), (3741.0, 22.0, 0.4654748439807008), (3740.0, 22.0, 0.46753525733947754), (3739.0, 23.0, 0.46964049339294434), (3738.0, 23.0, 0.4714946746844362), (3737.0, 25.0, 0.47246408462342515), (3736.0, 25.0, 0.47480273246765137), (3736.0, 26.0, 0.4754676818847656), (3734.0, 26.0, 0.476455688...</td>\n",
       "      <td>982</td>\n",
       "      <td>4.342829</td>\n",
       "      <td>1241.642863</td>\n",
       "    </tr>\n",
       "    <tr>\n",
       "      <th>3</th>\n",
       "      <td>[(1743.0, 342.0), (2840.0, 702.0)]</td>\n",
       "      <td>[(1743.0, 342.0, 0.0), (1743.0, 342.0, 0.20471119880858168), (1743.0, 343.0, 0.20708179474058852), (1744.0, 343.0, 0.21051526069823012), (1744.0, 344.0, 0.21251559257689223), (1745.0, 344.0, 0.2167360782641481), (1746.0, 345.0, 0.21954917907896743), (1747.0, 345.0, 0.22363018989744887), (1747.0, 346.0, 0.2245020866412233), (1748.0, 346.0, 0.22618484497252211), (1749.0, 346.0, 0.2295238971728395), (1749.0, 347.0, 0.23148679733458266), (1750.0, 347.0, 0.23244905471983657), (1752.0, 347.0, 0.23453927040281997), (1753.0, 348.0, 0.23651909828549833), (1754.0, 348.0, 0.23959994316282973), (1755....</td>\n",
       "      <td>822</td>\n",
       "      <td>1.587966</td>\n",
       "      <td>1154.560089</td>\n",
       "    </tr>\n",
       "    <tr>\n",
       "      <th>4</th>\n",
       "      <td>[(2840.0, 702.0), (1815.0, 570.0)]</td>\n",
       "      <td>[(2840.0, 702.0, 0.0), (2840.0, 702.0, 0.2697141170501709), (2840.0, 701.0, 0.28260087966737046), (2839.0, 701.0, 0.291576623916626), (2839.0, 700.0, 0.30771398544311523), (2839.0, 699.0, 0.3527102470397949), (2839.0, 699.0, 0.37573742866334214), (2839.0, 698.0, 0.3765428066253662), (2839.0, 697.0, 0.3957047462481569), (2839.0, 696.0, 0.40970730781555176), (2838.0, 696.0, 0.4125783443432738), (2838.0, 695.0, 0.424640417098999), (2838.0, 694.0, 0.44215083122435317), (2837.0, 694.0, 0.44252443313598633), (2837.0, 693.0, 0.456679105758667), (2837.0, 692.0, 0.47074079513549805), (2836.0, 692.0...</td>\n",
       "      <td>788</td>\n",
       "      <td>4.060469</td>\n",
       "      <td>1033.464562</td>\n",
       "    </tr>\n",
       "    <tr>\n",
       "      <th>5</th>\n",
       "      <td>[(1815.0, 570.0), (1409.0, 404.0)]</td>\n",
       "      <td>[(1815.0, 570.0, 0.0), (1814.0, 570.0, 0.23315978050231934), (1813.0, 570.0, 0.2360227107983519), (1812.0, 570.0, 0.2400035858154297), (1811.0, 570.0, 0.2419455051440309), (1810.0, 569.0, 0.24392390251159668), (1809.0, 569.0, 0.24735379219055176), (1808.0, 569.0, 0.24746918678283691), (1808.0, 568.0, 0.2478656768798828), (1806.0, 568.0, 0.24885892867860093), (1805.0, 568.0, 0.24986839294251695), (1804.0, 566.0, 0.2509012222290039), (1803.0, 566.0, 0.25295114517030015), (1801.0, 565.0, 0.2550358772277832), (1800.0, 565.0, 0.2551708221435547), (1799.0, 564.0, 0.25591564178466797), (1797.0, 5...</td>\n",
       "      <td>326</td>\n",
       "      <td>1.348332</td>\n",
       "      <td>438.625125</td>\n",
       "    </tr>\n",
       "  </tbody>\n",
       "</table>\n",
       "</div>"
      ],
      "text/plain": [
       "                            endpoints  \\\n",
       "0  [(2012.0, 1037.0), (3749.0, 18.0)]   \n",
       "1   [(3749.0, 18.0), (2703.0, 687.0)]   \n",
       "3  [(1743.0, 342.0), (2840.0, 702.0)]   \n",
       "4  [(2840.0, 702.0), (1815.0, 570.0)]   \n",
       "5  [(1815.0, 570.0), (1409.0, 404.0)]   \n",
       "\n",
       "                                                                                                                                                                                                                                                                                                                                                                                                                                                                                                                                                                                                                     moves  \\\n",
       "0  [(2012.0, 1037.0, 0.0), (2011.0, 1037.0, 0.10077786445617676), (2012.0, 1037.0, 0.27376604080200195), (2012.0, 1037.0, 0.2845008373260498), (2013.0, 1037.0, 0.2907142639160156), (2014.0, 1037.0, 0.2966609001159668), (2014.0, 1036.0, 0.2974541187286377), (2016.0, 1036.0, 0.30153536796569824), (2017.0, 1036.0, 0.3076975345629762), (2018.0, 1036.0, 0.3116309642791748), (2018.0, 1035.0, 0.3124566078186035), (2019.0, 1035.0, 0.3165128231066774), (2020.0, 1035.0, 0.32151174545469985), (2021.0, 1035.0, 0.3266334533691406), (2021.0, 1034.0, 0.3285355567950319), (2022.0, 1034.0, 0.33249807357788086...   \n",
       "1  [(3749.0, 18.0, 0.0), (3749.0, 18.0, 0.4386763572692871), (3748.0, 18.0, 0.4486064910888672), (3747.0, 19.0, 0.45251107216063247), (3746.0, 19.0, 0.45662569999694824), (3745.0, 20.0, 0.45937085151672363), (3744.0, 20.0, 0.4617609977722168), (3744.0, 21.0, 0.4624443054199219), (3743.0, 21.0, 0.46344971656799316), (3741.0, 22.0, 0.4654748439807008), (3740.0, 22.0, 0.46753525733947754), (3739.0, 23.0, 0.46964049339294434), (3738.0, 23.0, 0.4714946746844362), (3737.0, 25.0, 0.47246408462342515), (3736.0, 25.0, 0.47480273246765137), (3736.0, 26.0, 0.4754676818847656), (3734.0, 26.0, 0.476455688...   \n",
       "3  [(1743.0, 342.0, 0.0), (1743.0, 342.0, 0.20471119880858168), (1743.0, 343.0, 0.20708179474058852), (1744.0, 343.0, 0.21051526069823012), (1744.0, 344.0, 0.21251559257689223), (1745.0, 344.0, 0.2167360782641481), (1746.0, 345.0, 0.21954917907896743), (1747.0, 345.0, 0.22363018989744887), (1747.0, 346.0, 0.2245020866412233), (1748.0, 346.0, 0.22618484497252211), (1749.0, 346.0, 0.2295238971728395), (1749.0, 347.0, 0.23148679733458266), (1750.0, 347.0, 0.23244905471983657), (1752.0, 347.0, 0.23453927040281997), (1753.0, 348.0, 0.23651909828549833), (1754.0, 348.0, 0.23959994316282973), (1755....   \n",
       "4  [(2840.0, 702.0, 0.0), (2840.0, 702.0, 0.2697141170501709), (2840.0, 701.0, 0.28260087966737046), (2839.0, 701.0, 0.291576623916626), (2839.0, 700.0, 0.30771398544311523), (2839.0, 699.0, 0.3527102470397949), (2839.0, 699.0, 0.37573742866334214), (2839.0, 698.0, 0.3765428066253662), (2839.0, 697.0, 0.3957047462481569), (2839.0, 696.0, 0.40970730781555176), (2838.0, 696.0, 0.4125783443432738), (2838.0, 695.0, 0.424640417098999), (2838.0, 694.0, 0.44215083122435317), (2837.0, 694.0, 0.44252443313598633), (2837.0, 693.0, 0.456679105758667), (2837.0, 692.0, 0.47074079513549805), (2836.0, 692.0...   \n",
       "5  [(1815.0, 570.0, 0.0), (1814.0, 570.0, 0.23315978050231934), (1813.0, 570.0, 0.2360227107983519), (1812.0, 570.0, 0.2400035858154297), (1811.0, 570.0, 0.2419455051440309), (1810.0, 569.0, 0.24392390251159668), (1809.0, 569.0, 0.24735379219055176), (1808.0, 569.0, 0.24746918678283691), (1808.0, 568.0, 0.2478656768798828), (1806.0, 568.0, 0.24885892867860093), (1805.0, 568.0, 0.24986839294251695), (1804.0, 566.0, 0.2509012222290039), (1803.0, 566.0, 0.25295114517030015), (1801.0, 565.0, 0.2550358772277832), (1800.0, 565.0, 0.2551708221435547), (1799.0, 564.0, 0.25591564178466797), (1797.0, 5...   \n",
       "\n",
       "   num_moves      time     distance  \n",
       "0        644  1.636974  2013.834651  \n",
       "1        982  4.342829  1241.642863  \n",
       "3        822  1.587966  1154.560089  \n",
       "4        788  4.060469  1033.464562  \n",
       "5        326  1.348332   438.625125  "
      ]
     },
     "execution_count": 14,
     "metadata": {},
     "output_type": "execute_result"
    }
   ],
   "source": [
    "trimmed_df.head()"
   ]
  },
  {
   "cell_type": "code",
   "execution_count": 15,
   "metadata": {
    "colab": {
     "base_uri": "https://localhost:8080/"
    },
    "id": "CtGE9Tc0EHvp",
    "outputId": "ec5cf559-b8cd-465d-eb49-d17a347c72af"
   },
   "outputs": [
    {
     "data": {
      "text/plain": [
       "(2484, 5)"
      ]
     },
     "execution_count": 15,
     "metadata": {},
     "output_type": "execute_result"
    }
   ],
   "source": [
    "trimmed_df.shape"
   ]
  },
  {
   "cell_type": "code",
   "execution_count": null,
   "metadata": {
    "id": "PX4xT0ezNtIu"
   },
   "outputs": [],
   "source": [
    "\n"
   ]
  },
  {
   "cell_type": "code",
   "execution_count": 16,
   "metadata": {
    "colab": {
     "base_uri": "https://localhost:8080/",
     "height": 283
    },
    "id": "JpV_aKftHXPT",
    "outputId": "83012c00-7a03-4087-b0e2-a5df81117e1c"
   },
   "outputs": [
    {
     "data": {
      "text/plain": [
       "<matplotlib.collections.PathCollection at 0x7fe0bb11da60>"
      ]
     },
     "execution_count": 16,
     "metadata": {},
     "output_type": "execute_result"
    },
    {
     "data": {
      "image/png": "[encoded data removed]",
      "text/plain": [
       "<Figure size 432x288 with 1 Axes>"
      ]
     },
     "metadata": {
      "needs_background": "light"
     },
     "output_type": "display_data"
    }
   ],
   "source": [
    "plt.scatter(trimmed_df['distance'], trimmed_df['time'])"
   ]
  },
  {
   "cell_type": "code",
   "execution_count": 17,
   "metadata": {
    "colab": {
     "base_uri": "https://localhost:8080/",
     "height": 282
    },
    "id": "i174VWGHNymF",
    "outputId": "021b81da-4629-41ab-9dfe-36e63f791d1d"
   },
   "outputs": [
    {
     "data": {
      "text/plain": [
       "<matplotlib.collections.PathCollection at 0x7fe0bb0e2f10>"
      ]
     },
     "execution_count": 17,
     "metadata": {},
     "output_type": "execute_result"
    },
    {
     "data": {
      "image/png": "[encoded data removed]",
      "text/plain": [
       "<Figure size 432x288 with 1 Axes>"
      ]
     },
     "metadata": {
      "needs_background": "light"
     },
     "output_type": "display_data"
    }
   ],
   "source": [
    "plt.scatter(trimmed_df['distance'], trimmed_df['num_moves'])"
   ]
  },
  {
   "cell_type": "markdown",
   "metadata": {
    "id": "RXs2h3iFIu0Z"
   },
   "source": [
    "#Model Number of moves"
   ]
  },
  {
   "cell_type": "markdown",
   "metadata": {
    "id": "S575pAokJDk4"
   },
   "source": []
  },
  {
   "cell_type": "code",
   "execution_count": 55,
   "metadata": {
    "id": "E9hEv2zzPoJ-"
   },
   "outputs": [],
   "source": []
  },
  {
   "cell_type": "code",
   "execution_count": 18,
   "metadata": {
    "colab": {
     "base_uri": "https://localhost:8080/",
     "height": 206
    },
    "id": "bJUu12DRPqW4",
    "outputId": "9f24abda-8599-4c6a-8dff-2163878fb5e1"
   },
   "outputs": [
    {
     "data": {
      "text/html": [
       "<div>\n",
       "<style scoped>\n",
       "    .dataframe tbody tr th:only-of-type {\n",
       "        vertical-align: middle;\n",
       "    }\n",
       "\n",
       "    .dataframe tbody tr th {\n",
       "        vertical-align: top;\n",
       "    }\n",
       "\n",
       "    .dataframe thead th {\n",
       "        text-align: right;\n",
       "    }\n",
       "</style>\n",
       "<table border=\"1\" class=\"dataframe\">\n",
       "  <thead>\n",
       "    <tr style=\"text-align: right;\">\n",
       "      <th></th>\n",
       "      <th>endpoints</th>\n",
       "      <th>moves</th>\n",
       "      <th>num_moves</th>\n",
       "      <th>time</th>\n",
       "      <th>distance</th>\n",
       "    </tr>\n",
       "  </thead>\n",
       "  <tbody>\n",
       "    <tr>\n",
       "      <th>0</th>\n",
       "      <td>[(2012.0, 1037.0), (3749.0, 18.0)]</td>\n",
       "      <td>[(2012.0, 1037.0, 0.0), (2011.0, 1037.0, 0.10077786445617676), (2012.0, 1037.0, 0.27376604080200195), (2012.0, 1037.0, 0.2845008373260498), (2013.0, 1037.0, 0.2907142639160156), (2014.0, 1037.0, 0.2966609001159668), (2014.0, 1036.0, 0.2974541187286377), (2016.0, 1036.0, 0.30153536796569824), (2017.0, 1036.0, 0.3076975345629762), (2018.0, 1036.0, 0.3116309642791748), (2018.0, 1035.0, 0.3124566078186035), (2019.0, 1035.0, 0.3165128231066774), (2020.0, 1035.0, 0.32151174545469985), (2021.0, 1035.0, 0.3266334533691406), (2021.0, 1034.0, 0.3285355567950319), (2022.0, 1034.0, 0.33249807357788086...</td>\n",
       "      <td>644</td>\n",
       "      <td>1.636974</td>\n",
       "      <td>2013.834651</td>\n",
       "    </tr>\n",
       "    <tr>\n",
       "      <th>1</th>\n",
       "      <td>[(3749.0, 18.0), (2703.0, 687.0)]</td>\n",
       "      <td>[(3749.0, 18.0, 0.0), (3749.0, 18.0, 0.4386763572692871), (3748.0, 18.0, 0.4486064910888672), (3747.0, 19.0, 0.45251107216063247), (3746.0, 19.0, 0.45662569999694824), (3745.0, 20.0, 0.45937085151672363), (3744.0, 20.0, 0.4617609977722168), (3744.0, 21.0, 0.4624443054199219), (3743.0, 21.0, 0.46344971656799316), (3741.0, 22.0, 0.4654748439807008), (3740.0, 22.0, 0.46753525733947754), (3739.0, 23.0, 0.46964049339294434), (3738.0, 23.0, 0.4714946746844362), (3737.0, 25.0, 0.47246408462342515), (3736.0, 25.0, 0.47480273246765137), (3736.0, 26.0, 0.4754676818847656), (3734.0, 26.0, 0.476455688...</td>\n",
       "      <td>982</td>\n",
       "      <td>4.342829</td>\n",
       "      <td>1241.642863</td>\n",
       "    </tr>\n",
       "    <tr>\n",
       "      <th>3</th>\n",
       "      <td>[(1743.0, 342.0), (2840.0, 702.0)]</td>\n",
       "      <td>[(1743.0, 342.0, 0.0), (1743.0, 342.0, 0.20471119880858168), (1743.0, 343.0, 0.20708179474058852), (1744.0, 343.0, 0.21051526069823012), (1744.0, 344.0, 0.21251559257689223), (1745.0, 344.0, 0.2167360782641481), (1746.0, 345.0, 0.21954917907896743), (1747.0, 345.0, 0.22363018989744887), (1747.0, 346.0, 0.2245020866412233), (1748.0, 346.0, 0.22618484497252211), (1749.0, 346.0, 0.2295238971728395), (1749.0, 347.0, 0.23148679733458266), (1750.0, 347.0, 0.23244905471983657), (1752.0, 347.0, 0.23453927040281997), (1753.0, 348.0, 0.23651909828549833), (1754.0, 348.0, 0.23959994316282973), (1755....</td>\n",
       "      <td>822</td>\n",
       "      <td>1.587966</td>\n",
       "      <td>1154.560089</td>\n",
       "    </tr>\n",
       "    <tr>\n",
       "      <th>4</th>\n",
       "      <td>[(2840.0, 702.0), (1815.0, 570.0)]</td>\n",
       "      <td>[(2840.0, 702.0, 0.0), (2840.0, 702.0, 0.2697141170501709), (2840.0, 701.0, 0.28260087966737046), (2839.0, 701.0, 0.291576623916626), (2839.0, 700.0, 0.30771398544311523), (2839.0, 699.0, 0.3527102470397949), (2839.0, 699.0, 0.37573742866334214), (2839.0, 698.0, 0.3765428066253662), (2839.0, 697.0, 0.3957047462481569), (2839.0, 696.0, 0.40970730781555176), (2838.0, 696.0, 0.4125783443432738), (2838.0, 695.0, 0.424640417098999), (2838.0, 694.0, 0.44215083122435317), (2837.0, 694.0, 0.44252443313598633), (2837.0, 693.0, 0.456679105758667), (2837.0, 692.0, 0.47074079513549805), (2836.0, 692.0...</td>\n",
       "      <td>788</td>\n",
       "      <td>4.060469</td>\n",
       "      <td>1033.464562</td>\n",
       "    </tr>\n",
       "    <tr>\n",
       "      <th>5</th>\n",
       "      <td>[(1815.0, 570.0), (1409.0, 404.0)]</td>\n",
       "      <td>[(1815.0, 570.0, 0.0), (1814.0, 570.0, 0.23315978050231934), (1813.0, 570.0, 0.2360227107983519), (1812.0, 570.0, 0.2400035858154297), (1811.0, 570.0, 0.2419455051440309), (1810.0, 569.0, 0.24392390251159668), (1809.0, 569.0, 0.24735379219055176), (1808.0, 569.0, 0.24746918678283691), (1808.0, 568.0, 0.2478656768798828), (1806.0, 568.0, 0.24885892867860093), (1805.0, 568.0, 0.24986839294251695), (1804.0, 566.0, 0.2509012222290039), (1803.0, 566.0, 0.25295114517030015), (1801.0, 565.0, 0.2550358772277832), (1800.0, 565.0, 0.2551708221435547), (1799.0, 564.0, 0.25591564178466797), (1797.0, 5...</td>\n",
       "      <td>326</td>\n",
       "      <td>1.348332</td>\n",
       "      <td>438.625125</td>\n",
       "    </tr>\n",
       "  </tbody>\n",
       "</table>\n",
       "</div>"
      ],
      "text/plain": [
       "                            endpoints  \\\n",
       "0  [(2012.0, 1037.0), (3749.0, 18.0)]   \n",
       "1   [(3749.0, 18.0), (2703.0, 687.0)]   \n",
       "3  [(1743.0, 342.0), (2840.0, 702.0)]   \n",
       "4  [(2840.0, 702.0), (1815.0, 570.0)]   \n",
       "5  [(1815.0, 570.0), (1409.0, 404.0)]   \n",
       "\n",
       "                                                                                                                                                                                                                                                                                                                                                                                                                                                                                                                                                                                                                     moves  \\\n",
       "0  [(2012.0, 1037.0, 0.0), (2011.0, 1037.0, 0.10077786445617676), (2012.0, 1037.0, 0.27376604080200195), (2012.0, 1037.0, 0.2845008373260498), (2013.0, 1037.0, 0.2907142639160156), (2014.0, 1037.0, 0.2966609001159668), (2014.0, 1036.0, 0.2974541187286377), (2016.0, 1036.0, 0.30153536796569824), (2017.0, 1036.0, 0.3076975345629762), (2018.0, 1036.0, 0.3116309642791748), (2018.0, 1035.0, 0.3124566078186035), (2019.0, 1035.0, 0.3165128231066774), (2020.0, 1035.0, 0.32151174545469985), (2021.0, 1035.0, 0.3266334533691406), (2021.0, 1034.0, 0.3285355567950319), (2022.0, 1034.0, 0.33249807357788086...   \n",
       "1  [(3749.0, 18.0, 0.0), (3749.0, 18.0, 0.4386763572692871), (3748.0, 18.0, 0.4486064910888672), (3747.0, 19.0, 0.45251107216063247), (3746.0, 19.0, 0.45662569999694824), (3745.0, 20.0, 0.45937085151672363), (3744.0, 20.0, 0.4617609977722168), (3744.0, 21.0, 0.4624443054199219), (3743.0, 21.0, 0.46344971656799316), (3741.0, 22.0, 0.4654748439807008), (3740.0, 22.0, 0.46753525733947754), (3739.0, 23.0, 0.46964049339294434), (3738.0, 23.0, 0.4714946746844362), (3737.0, 25.0, 0.47246408462342515), (3736.0, 25.0, 0.47480273246765137), (3736.0, 26.0, 0.4754676818847656), (3734.0, 26.0, 0.476455688...   \n",
       "3  [(1743.0, 342.0, 0.0), (1743.0, 342.0, 0.20471119880858168), (1743.0, 343.0, 0.20708179474058852), (1744.0, 343.0, 0.21051526069823012), (1744.0, 344.0, 0.21251559257689223), (1745.0, 344.0, 0.2167360782641481), (1746.0, 345.0, 0.21954917907896743), (1747.0, 345.0, 0.22363018989744887), (1747.0, 346.0, 0.2245020866412233), (1748.0, 346.0, 0.22618484497252211), (1749.0, 346.0, 0.2295238971728395), (1749.0, 347.0, 0.23148679733458266), (1750.0, 347.0, 0.23244905471983657), (1752.0, 347.0, 0.23453927040281997), (1753.0, 348.0, 0.23651909828549833), (1754.0, 348.0, 0.23959994316282973), (1755....   \n",
       "4  [(2840.0, 702.0, 0.0), (2840.0, 702.0, 0.2697141170501709), (2840.0, 701.0, 0.28260087966737046), (2839.0, 701.0, 0.291576623916626), (2839.0, 700.0, 0.30771398544311523), (2839.0, 699.0, 0.3527102470397949), (2839.0, 699.0, 0.37573742866334214), (2839.0, 698.0, 0.3765428066253662), (2839.0, 697.0, 0.3957047462481569), (2839.0, 696.0, 0.40970730781555176), (2838.0, 696.0, 0.4125783443432738), (2838.0, 695.0, 0.424640417098999), (2838.0, 694.0, 0.44215083122435317), (2837.0, 694.0, 0.44252443313598633), (2837.0, 693.0, 0.456679105758667), (2837.0, 692.0, 0.47074079513549805), (2836.0, 692.0...   \n",
       "5  [(1815.0, 570.0, 0.0), (1814.0, 570.0, 0.23315978050231934), (1813.0, 570.0, 0.2360227107983519), (1812.0, 570.0, 0.2400035858154297), (1811.0, 570.0, 0.2419455051440309), (1810.0, 569.0, 0.24392390251159668), (1809.0, 569.0, 0.24735379219055176), (1808.0, 569.0, 0.24746918678283691), (1808.0, 568.0, 0.2478656768798828), (1806.0, 568.0, 0.24885892867860093), (1805.0, 568.0, 0.24986839294251695), (1804.0, 566.0, 0.2509012222290039), (1803.0, 566.0, 0.25295114517030015), (1801.0, 565.0, 0.2550358772277832), (1800.0, 565.0, 0.2551708221435547), (1799.0, 564.0, 0.25591564178466797), (1797.0, 5...   \n",
       "\n",
       "   num_moves      time     distance  \n",
       "0        644  1.636974  2013.834651  \n",
       "1        982  4.342829  1241.642863  \n",
       "3        822  1.587966  1154.560089  \n",
       "4        788  4.060469  1033.464562  \n",
       "5        326  1.348332   438.625125  "
      ]
     },
     "execution_count": 18,
     "metadata": {},
     "output_type": "execute_result"
    }
   ],
   "source": [
    "trimmed_df.head()"
   ]
  },
  {
   "cell_type": "code",
   "execution_count": 151,
   "metadata": {},
   "outputs": [],
   "source": [
    "starts, ends = zip(*trimmed_df.endpoints)\n",
    "start_x, start_y = zip(*starts)\n",
    "end_x, end_y = zip(*ends)\n",
    "trimmed_df = trimmed_df.assign(start_x=start_x, start_y=start_y, end_x=end_x, end_y=end_y)"
   ]
  },
  {
   "cell_type": "code",
   "execution_count": 152,
   "metadata": {
    "colab": {
     "base_uri": "https://localhost:8080/",
     "height": 206
    },
    "id": "R0fPL52APwlA",
    "outputId": "80b9e815-0428-4353-c728-69cb5fe5920a"
   },
   "outputs": [
    {
     "data": {
      "text/html": [
       "<div>\n",
       "<style scoped>\n",
       "    .dataframe tbody tr th:only-of-type {\n",
       "        vertical-align: middle;\n",
       "    }\n",
       "\n",
       "    .dataframe tbody tr th {\n",
       "        vertical-align: top;\n",
       "    }\n",
       "\n",
       "    .dataframe thead th {\n",
       "        text-align: right;\n",
       "    }\n",
       "</style>\n",
       "<table border=\"1\" class=\"dataframe\">\n",
       "  <thead>\n",
       "    <tr style=\"text-align: right;\">\n",
       "      <th></th>\n",
       "      <th>endpoints</th>\n",
       "      <th>num_moves</th>\n",
       "      <th>time</th>\n",
       "      <th>start_x</th>\n",
       "      <th>start_y</th>\n",
       "      <th>end_x</th>\n",
       "      <th>end_y</th>\n",
       "    </tr>\n",
       "  </thead>\n",
       "  <tbody>\n",
       "    <tr>\n",
       "      <th>0</th>\n",
       "      <td>[(2012.0, 1037.0), (3749.0, 18.0)]</td>\n",
       "      <td>644</td>\n",
       "      <td>1.636974</td>\n",
       "      <td>2012.0</td>\n",
       "      <td>1037.0</td>\n",
       "      <td>3749.0</td>\n",
       "      <td>18.0</td>\n",
       "    </tr>\n",
       "    <tr>\n",
       "      <th>1</th>\n",
       "      <td>[(3749.0, 18.0), (2703.0, 687.0)]</td>\n",
       "      <td>982</td>\n",
       "      <td>4.342829</td>\n",
       "      <td>3749.0</td>\n",
       "      <td>18.0</td>\n",
       "      <td>2703.0</td>\n",
       "      <td>687.0</td>\n",
       "    </tr>\n",
       "    <tr>\n",
       "      <th>3</th>\n",
       "      <td>[(1743.0, 342.0), (2840.0, 702.0)]</td>\n",
       "      <td>822</td>\n",
       "      <td>1.587966</td>\n",
       "      <td>1743.0</td>\n",
       "      <td>342.0</td>\n",
       "      <td>2840.0</td>\n",
       "      <td>702.0</td>\n",
       "    </tr>\n",
       "    <tr>\n",
       "      <th>4</th>\n",
       "      <td>[(2840.0, 702.0), (1815.0, 570.0)]</td>\n",
       "      <td>788</td>\n",
       "      <td>4.060469</td>\n",
       "      <td>2840.0</td>\n",
       "      <td>702.0</td>\n",
       "      <td>1815.0</td>\n",
       "      <td>570.0</td>\n",
       "    </tr>\n",
       "    <tr>\n",
       "      <th>5</th>\n",
       "      <td>[(1815.0, 570.0), (1409.0, 404.0)]</td>\n",
       "      <td>326</td>\n",
       "      <td>1.348332</td>\n",
       "      <td>1815.0</td>\n",
       "      <td>570.0</td>\n",
       "      <td>1409.0</td>\n",
       "      <td>404.0</td>\n",
       "    </tr>\n",
       "  </tbody>\n",
       "</table>\n",
       "</div>"
      ],
      "text/plain": [
       "                            endpoints  num_moves      time  start_x  start_y  \\\n",
       "0  [(2012.0, 1037.0), (3749.0, 18.0)]        644  1.636974   2012.0   1037.0   \n",
       "1   [(3749.0, 18.0), (2703.0, 687.0)]        982  4.342829   3749.0     18.0   \n",
       "3  [(1743.0, 342.0), (2840.0, 702.0)]        822  1.587966   1743.0    342.0   \n",
       "4  [(2840.0, 702.0), (1815.0, 570.0)]        788  4.060469   2840.0    702.0   \n",
       "5  [(1815.0, 570.0), (1409.0, 404.0)]        326  1.348332   1815.0    570.0   \n",
       "\n",
       "    end_x  end_y  \n",
       "0  3749.0   18.0  \n",
       "1  2703.0  687.0  \n",
       "3  2840.0  702.0  \n",
       "4  1815.0  570.0  \n",
       "5  1409.0  404.0  "
      ]
     },
     "execution_count": 152,
     "metadata": {},
     "output_type": "execute_result"
    }
   ],
   "source": [
    "tab_df = trimmed_df[['endpoints', 'num_moves', 'time', 'start_x', 'start_y', 'end_x', 'end_y']]\n",
    "\n",
    "tab_df.head()"
   ]
  },
  {
   "cell_type": "code",
   "execution_count": 129,
   "metadata": {},
   "outputs": [],
   "source": [
    "\n",
    "# .apply(lambda x: x[0][0])"
   ]
  },
  {
   "cell_type": "code",
   "execution_count": 130,
   "metadata": {},
   "outputs": [],
   "source": []
  },
  {
   "cell_type": "code",
   "execution_count": 131,
   "metadata": {},
   "outputs": [],
   "source": []
  },
  {
   "cell_type": "code",
   "execution_count": 132,
   "metadata": {
    "colab": {
     "base_uri": "https://localhost:8080/",
     "height": 206
    },
    "id": "J8TIHWZwQxsv",
    "outputId": "077e66f4-fd02-4d80-f0d6-824936b21458"
   },
   "outputs": [
    {
     "data": {
      "text/html": [
       "<div>\n",
       "<style scoped>\n",
       "    .dataframe tbody tr th:only-of-type {\n",
       "        vertical-align: middle;\n",
       "    }\n",
       "\n",
       "    .dataframe tbody tr th {\n",
       "        vertical-align: top;\n",
       "    }\n",
       "\n",
       "    .dataframe thead th {\n",
       "        text-align: right;\n",
       "    }\n",
       "</style>\n",
       "<table border=\"1\" class=\"dataframe\">\n",
       "  <thead>\n",
       "    <tr style=\"text-align: right;\">\n",
       "      <th></th>\n",
       "      <th>endpoints</th>\n",
       "      <th>num_moves</th>\n",
       "      <th>time</th>\n",
       "      <th>start_x</th>\n",
       "      <th>start_y</th>\n",
       "      <th>end_x</th>\n",
       "      <th>end_y</th>\n",
       "    </tr>\n",
       "  </thead>\n",
       "  <tbody>\n",
       "    <tr>\n",
       "      <th>0</th>\n",
       "      <td>[(2012.0, 1037.0), (3749.0, 18.0)]</td>\n",
       "      <td>644</td>\n",
       "      <td>1.636974</td>\n",
       "      <td>2012.0</td>\n",
       "      <td>1037.0</td>\n",
       "      <td>3749.0</td>\n",
       "      <td>18.0</td>\n",
       "    </tr>\n",
       "    <tr>\n",
       "      <th>1</th>\n",
       "      <td>[(3749.0, 18.0), (2703.0, 687.0)]</td>\n",
       "      <td>982</td>\n",
       "      <td>4.342829</td>\n",
       "      <td>3749.0</td>\n",
       "      <td>18.0</td>\n",
       "      <td>2703.0</td>\n",
       "      <td>687.0</td>\n",
       "    </tr>\n",
       "    <tr>\n",
       "      <th>3</th>\n",
       "      <td>[(1743.0, 342.0), (2840.0, 702.0)]</td>\n",
       "      <td>822</td>\n",
       "      <td>1.587966</td>\n",
       "      <td>1743.0</td>\n",
       "      <td>342.0</td>\n",
       "      <td>2840.0</td>\n",
       "      <td>702.0</td>\n",
       "    </tr>\n",
       "    <tr>\n",
       "      <th>4</th>\n",
       "      <td>[(2840.0, 702.0), (1815.0, 570.0)]</td>\n",
       "      <td>788</td>\n",
       "      <td>4.060469</td>\n",
       "      <td>2840.0</td>\n",
       "      <td>702.0</td>\n",
       "      <td>1815.0</td>\n",
       "      <td>570.0</td>\n",
       "    </tr>\n",
       "    <tr>\n",
       "      <th>5</th>\n",
       "      <td>[(1815.0, 570.0), (1409.0, 404.0)]</td>\n",
       "      <td>326</td>\n",
       "      <td>1.348332</td>\n",
       "      <td>1815.0</td>\n",
       "      <td>570.0</td>\n",
       "      <td>1409.0</td>\n",
       "      <td>404.0</td>\n",
       "    </tr>\n",
       "  </tbody>\n",
       "</table>\n",
       "</div>"
      ],
      "text/plain": [
       "                            endpoints  num_moves      time  start_x  start_y  \\\n",
       "0  [(2012.0, 1037.0), (3749.0, 18.0)]        644  1.636974   2012.0   1037.0   \n",
       "1   [(3749.0, 18.0), (2703.0, 687.0)]        982  4.342829   3749.0     18.0   \n",
       "3  [(1743.0, 342.0), (2840.0, 702.0)]        822  1.587966   1743.0    342.0   \n",
       "4  [(2840.0, 702.0), (1815.0, 570.0)]        788  4.060469   2840.0    702.0   \n",
       "5  [(1815.0, 570.0), (1409.0, 404.0)]        326  1.348332   1815.0    570.0   \n",
       "\n",
       "    end_x  end_y  \n",
       "0  3749.0   18.0  \n",
       "1  2703.0  687.0  \n",
       "3  2840.0  702.0  \n",
       "4  1815.0  570.0  \n",
       "5  1409.0  404.0  "
      ]
     },
     "execution_count": 132,
     "metadata": {},
     "output_type": "execute_result"
    }
   ],
   "source": [
    "tab_df.head()"
   ]
  },
  {
   "cell_type": "code",
   "execution_count": 133,
   "metadata": {},
   "outputs": [
    {
     "data": {
      "text/plain": [
       "dtype('float64')"
      ]
     },
     "execution_count": 133,
     "metadata": {},
     "output_type": "execute_result"
    }
   ],
   "source": [
    "tab_df['end_x'].dtype"
   ]
  },
  {
   "cell_type": "code",
   "execution_count": 134,
   "metadata": {},
   "outputs": [],
   "source": [
    "tab_df.loc[:, 'num_moves'] = tab_df.loc[:, 'num_moves'].astype('float64')"
   ]
  },
  {
   "cell_type": "code",
   "execution_count": 135,
   "metadata": {
    "colab": {
     "base_uri": "https://localhost:8080/",
     "height": 206
    },
    "id": "MdGssAy5QzIb",
    "outputId": "274deaac-d1b9-487f-dc54-322e1993ef79"
   },
   "outputs": [
    {
     "data": {
      "text/html": [
       "<div>\n",
       "<style scoped>\n",
       "    .dataframe tbody tr th:only-of-type {\n",
       "        vertical-align: middle;\n",
       "    }\n",
       "\n",
       "    .dataframe tbody tr th {\n",
       "        vertical-align: top;\n",
       "    }\n",
       "\n",
       "    .dataframe thead th {\n",
       "        text-align: right;\n",
       "    }\n",
       "</style>\n",
       "<table border=\"1\" class=\"dataframe\">\n",
       "  <thead>\n",
       "    <tr style=\"text-align: right;\">\n",
       "      <th></th>\n",
       "      <th>num_moves</th>\n",
       "      <th>time</th>\n",
       "      <th>start_x</th>\n",
       "      <th>start_y</th>\n",
       "      <th>end_x</th>\n",
       "      <th>end_y</th>\n",
       "    </tr>\n",
       "  </thead>\n",
       "  <tbody>\n",
       "    <tr>\n",
       "      <th>0</th>\n",
       "      <td>644.0</td>\n",
       "      <td>1.636974</td>\n",
       "      <td>2012.0</td>\n",
       "      <td>1037.0</td>\n",
       "      <td>3749.0</td>\n",
       "      <td>18.0</td>\n",
       "    </tr>\n",
       "    <tr>\n",
       "      <th>1</th>\n",
       "      <td>982.0</td>\n",
       "      <td>4.342829</td>\n",
       "      <td>3749.0</td>\n",
       "      <td>18.0</td>\n",
       "      <td>2703.0</td>\n",
       "      <td>687.0</td>\n",
       "    </tr>\n",
       "    <tr>\n",
       "      <th>3</th>\n",
       "      <td>822.0</td>\n",
       "      <td>1.587966</td>\n",
       "      <td>1743.0</td>\n",
       "      <td>342.0</td>\n",
       "      <td>2840.0</td>\n",
       "      <td>702.0</td>\n",
       "    </tr>\n",
       "    <tr>\n",
       "      <th>4</th>\n",
       "      <td>788.0</td>\n",
       "      <td>4.060469</td>\n",
       "      <td>2840.0</td>\n",
       "      <td>702.0</td>\n",
       "      <td>1815.0</td>\n",
       "      <td>570.0</td>\n",
       "    </tr>\n",
       "    <tr>\n",
       "      <th>5</th>\n",
       "      <td>326.0</td>\n",
       "      <td>1.348332</td>\n",
       "      <td>1815.0</td>\n",
       "      <td>570.0</td>\n",
       "      <td>1409.0</td>\n",
       "      <td>404.0</td>\n",
       "    </tr>\n",
       "  </tbody>\n",
       "</table>\n",
       "</div>"
      ],
      "text/plain": [
       "   num_moves      time  start_x  start_y   end_x  end_y\n",
       "0      644.0  1.636974   2012.0   1037.0  3749.0   18.0\n",
       "1      982.0  4.342829   3749.0     18.0  2703.0  687.0\n",
       "3      822.0  1.587966   1743.0    342.0  2840.0  702.0\n",
       "4      788.0  4.060469   2840.0    702.0  1815.0  570.0\n",
       "5      326.0  1.348332   1815.0    570.0  1409.0  404.0"
      ]
     },
     "execution_count": 135,
     "metadata": {},
     "output_type": "execute_result"
    }
   ],
   "source": [
    "tab_df = tab_df.drop(['endpoints'], axis=1)\n",
    "tab_df.head()"
   ]
  },
  {
   "cell_type": "code",
   "execution_count": 24,
   "metadata": {},
   "outputs": [],
   "source": [
    "??TabularDataLoaders.from_df"
   ]
  },
  {
   "cell_type": "code",
   "execution_count": 136,
   "metadata": {
    "id": "itIIu91BRUJg"
   },
   "outputs": [],
   "source": [
    "path = Path(f'./TabDataBunch')\n",
    "procs = [Normalize]\n",
    "data = TabularDataLoaders.from_df(tab_df, path, procs, y_names=[\"num_moves\", \"time\"])"
   ]
  },
  {
   "cell_type": "code",
   "execution_count": 142,
   "metadata": {},
   "outputs": [],
   "source": [
    "learn = tabular_learner(data, layers=[5,100], emb_szs={'native-country': 10}, loss_func=F.mse_loss, n_out=2)"
   ]
  },
  {
   "cell_type": "code",
   "execution_count": 143,
   "metadata": {},
   "outputs": [
    {
     "data": {
      "text/html": [
       "\n",
       "<style>\n",
       "    /* Turns off some styling */\n",
       "    progress {\n",
       "        /* gets rid of default border in Firefox and Opera. */\n",
       "        border: none;\n",
       "        /* Needs to be in here for Safari polyfill so background images work as expected. */\n",
       "        background-size: auto;\n",
       "    }\n",
       "    progress:not([value]), progress:not([value])::-webkit-progress-bar {\n",
       "        background: repeating-linear-gradient(45deg, #7e7e7e, #7e7e7e 10px, #5c5c5c 10px, #5c5c5c 20px);\n",
       "    }\n",
       "    .progress-bar-interrupted, .progress-bar-interrupted::-webkit-progress-bar {\n",
       "        background: #F44336;\n",
       "    }\n",
       "</style>\n"
      ],
      "text/plain": [
       "<IPython.core.display.HTML object>"
      ]
     },
     "metadata": {},
     "output_type": "display_data"
    },
    {
     "data": {
      "text/html": [
       "<table border=\"1\" class=\"dataframe\">\n",
       "  <thead>\n",
       "    <tr style=\"text-align: left;\">\n",
       "      <th>epoch</th>\n",
       "      <th>train_loss</th>\n",
       "      <th>valid_loss</th>\n",
       "      <th>time</th>\n",
       "    </tr>\n",
       "  </thead>\n",
       "  <tbody>\n",
       "    <tr>\n",
       "      <td>0</td>\n",
       "      <td>150128.328125</td>\n",
       "      <td>154133.171875</td>\n",
       "      <td>00:00</td>\n",
       "    </tr>\n",
       "    <tr>\n",
       "      <td>1</td>\n",
       "      <td>147639.578125</td>\n",
       "      <td>142462.125000</td>\n",
       "      <td>00:00</td>\n",
       "    </tr>\n",
       "    <tr>\n",
       "      <td>2</td>\n",
       "      <td>133956.625000</td>\n",
       "      <td>115005.609375</td>\n",
       "      <td>00:00</td>\n",
       "    </tr>\n",
       "    <tr>\n",
       "      <td>3</td>\n",
       "      <td>118960.140625</td>\n",
       "      <td>104248.640625</td>\n",
       "      <td>00:00</td>\n",
       "    </tr>\n",
       "    <tr>\n",
       "      <td>4</td>\n",
       "      <td>110131.945312</td>\n",
       "      <td>100885.789062</td>\n",
       "      <td>00:00</td>\n",
       "    </tr>\n",
       "  </tbody>\n",
       "</table>"
      ],
      "text/plain": [
       "<IPython.core.display.HTML object>"
      ]
     },
     "metadata": {},
     "output_type": "display_data"
    }
   ],
   "source": [
    "learn.fit_one_cycle(5, 1e-2)"
   ]
  },
  {
   "cell_type": "code",
   "execution_count": 144,
   "metadata": {},
   "outputs": [
    {
     "data": {
      "text/html": [
       "\n",
       "<style>\n",
       "    /* Turns off some styling */\n",
       "    progress {\n",
       "        /* gets rid of default border in Firefox and Opera. */\n",
       "        border: none;\n",
       "        /* Needs to be in here for Safari polyfill so background images work as expected. */\n",
       "        background-size: auto;\n",
       "    }\n",
       "    progress:not([value]), progress:not([value])::-webkit-progress-bar {\n",
       "        background: repeating-linear-gradient(45deg, #7e7e7e, #7e7e7e 10px, #5c5c5c 10px, #5c5c5c 20px);\n",
       "    }\n",
       "    .progress-bar-interrupted, .progress-bar-interrupted::-webkit-progress-bar {\n",
       "        background: #F44336;\n",
       "    }\n",
       "</style>\n"
      ],
      "text/plain": [
       "<IPython.core.display.HTML object>"
      ]
     },
     "metadata": {},
     "output_type": "display_data"
    },
    {
     "data": {
      "text/html": [],
      "text/plain": [
       "<IPython.core.display.HTML object>"
      ]
     },
     "metadata": {},
     "output_type": "display_data"
    },
    {
     "data": {
      "text/plain": [
       "SuggestedLRs(valley=0.02754228748381138)"
      ]
     },
     "execution_count": 144,
     "metadata": {},
     "output_type": "execute_result"
    },
    {
     "data": {
      "image/png": "[encoded data removed]",
      "text/plain": [
       "<Figure size 432x288 with 1 Axes>"
      ]
     },
     "metadata": {
      "needs_background": "light"
     },
     "output_type": "display_data"
    }
   ],
   "source": [
    "learn.lr_find()"
   ]
  },
  {
   "cell_type": "code",
   "execution_count": 145,
   "metadata": {},
   "outputs": [
    {
     "data": {
      "text/html": [
       "\n",
       "<style>\n",
       "    /* Turns off some styling */\n",
       "    progress {\n",
       "        /* gets rid of default border in Firefox and Opera. */\n",
       "        border: none;\n",
       "        /* Needs to be in here for Safari polyfill so background images work as expected. */\n",
       "        background-size: auto;\n",
       "    }\n",
       "    progress:not([value]), progress:not([value])::-webkit-progress-bar {\n",
       "        background: repeating-linear-gradient(45deg, #7e7e7e, #7e7e7e 10px, #5c5c5c 10px, #5c5c5c 20px);\n",
       "    }\n",
       "    .progress-bar-interrupted, .progress-bar-interrupted::-webkit-progress-bar {\n",
       "        background: #F44336;\n",
       "    }\n",
       "</style>\n"
      ],
      "text/plain": [
       "<IPython.core.display.HTML object>"
      ]
     },
     "metadata": {},
     "output_type": "display_data"
    },
    {
     "data": {
      "text/html": [
       "<table border=\"1\" class=\"dataframe\">\n",
       "  <thead>\n",
       "    <tr style=\"text-align: left;\">\n",
       "      <th>epoch</th>\n",
       "      <th>train_loss</th>\n",
       "      <th>valid_loss</th>\n",
       "      <th>time</th>\n",
       "    </tr>\n",
       "  </thead>\n",
       "  <tbody>\n",
       "    <tr>\n",
       "      <td>0</td>\n",
       "      <td>89966.046875</td>\n",
       "      <td>70704.007812</td>\n",
       "      <td>00:00</td>\n",
       "    </tr>\n",
       "    <tr>\n",
       "      <td>1</td>\n",
       "      <td>71614.109375</td>\n",
       "      <td>58472.917969</td>\n",
       "      <td>00:00</td>\n",
       "    </tr>\n",
       "    <tr>\n",
       "      <td>2</td>\n",
       "      <td>60564.859375</td>\n",
       "      <td>55257.886719</td>\n",
       "      <td>00:00</td>\n",
       "    </tr>\n",
       "    <tr>\n",
       "      <td>3</td>\n",
       "      <td>55912.183594</td>\n",
       "      <td>53693.914062</td>\n",
       "      <td>00:00</td>\n",
       "    </tr>\n",
       "    <tr>\n",
       "      <td>4</td>\n",
       "      <td>53293.398438</td>\n",
       "      <td>52823.941406</td>\n",
       "      <td>00:00</td>\n",
       "    </tr>\n",
       "  </tbody>\n",
       "</table>"
      ],
      "text/plain": [
       "<IPython.core.display.HTML object>"
      ]
     },
     "metadata": {},
     "output_type": "display_data"
    }
   ],
   "source": [
    "learn.fit_one_cycle(5, 3e-2)"
   ]
  },
  {
   "cell_type": "code",
   "execution_count": 146,
   "metadata": {},
   "outputs": [
    {
     "data": {
      "text/html": [
       "\n",
       "<style>\n",
       "    /* Turns off some styling */\n",
       "    progress {\n",
       "        /* gets rid of default border in Firefox and Opera. */\n",
       "        border: none;\n",
       "        /* Needs to be in here for Safari polyfill so background images work as expected. */\n",
       "        background-size: auto;\n",
       "    }\n",
       "    progress:not([value]), progress:not([value])::-webkit-progress-bar {\n",
       "        background: repeating-linear-gradient(45deg, #7e7e7e, #7e7e7e 10px, #5c5c5c 10px, #5c5c5c 20px);\n",
       "    }\n",
       "    .progress-bar-interrupted, .progress-bar-interrupted::-webkit-progress-bar {\n",
       "        background: #F44336;\n",
       "    }\n",
       "</style>\n"
      ],
      "text/plain": [
       "<IPython.core.display.HTML object>"
      ]
     },
     "metadata": {},
     "output_type": "display_data"
    },
    {
     "data": {
      "text/html": [],
      "text/plain": [
       "<IPython.core.display.HTML object>"
      ]
     },
     "metadata": {},
     "output_type": "display_data"
    },
    {
     "data": {
      "text/plain": [
       "SuggestedLRs(valley=0.015848932787775993)"
      ]
     },
     "execution_count": 146,
     "metadata": {},
     "output_type": "execute_result"
    },
    {
     "data": {
      "image/png": "[encoded data removed]",
      "text/plain": [
       "<Figure size 432x288 with 1 Axes>"
      ]
     },
     "metadata": {
      "needs_background": "light"
     },
     "output_type": "display_data"
    }
   ],
   "source": [
    "learn.lr_find()"
   ]
  },
  {
   "cell_type": "code",
   "execution_count": 147,
   "metadata": {},
   "outputs": [
    {
     "data": {
      "text/html": [
       "\n",
       "<style>\n",
       "    /* Turns off some styling */\n",
       "    progress {\n",
       "        /* gets rid of default border in Firefox and Opera. */\n",
       "        border: none;\n",
       "        /* Needs to be in here for Safari polyfill so background images work as expected. */\n",
       "        background-size: auto;\n",
       "    }\n",
       "    progress:not([value]), progress:not([value])::-webkit-progress-bar {\n",
       "        background: repeating-linear-gradient(45deg, #7e7e7e, #7e7e7e 10px, #5c5c5c 10px, #5c5c5c 20px);\n",
       "    }\n",
       "    .progress-bar-interrupted, .progress-bar-interrupted::-webkit-progress-bar {\n",
       "        background: #F44336;\n",
       "    }\n",
       "</style>\n"
      ],
      "text/plain": [
       "<IPython.core.display.HTML object>"
      ]
     },
     "metadata": {},
     "output_type": "display_data"
    },
    {
     "data": {
      "text/html": [
       "<table border=\"1\" class=\"dataframe\">\n",
       "  <thead>\n",
       "    <tr style=\"text-align: left;\">\n",
       "      <th>epoch</th>\n",
       "      <th>train_loss</th>\n",
       "      <th>valid_loss</th>\n",
       "      <th>time</th>\n",
       "    </tr>\n",
       "  </thead>\n",
       "  <tbody>\n",
       "    <tr>\n",
       "      <td>0</td>\n",
       "      <td>50444.640625</td>\n",
       "      <td>52720.394531</td>\n",
       "      <td>00:00</td>\n",
       "    </tr>\n",
       "    <tr>\n",
       "      <td>1</td>\n",
       "      <td>49837.957031</td>\n",
       "      <td>52734.851562</td>\n",
       "      <td>00:00</td>\n",
       "    </tr>\n",
       "    <tr>\n",
       "      <td>2</td>\n",
       "      <td>50555.875000</td>\n",
       "      <td>54008.308594</td>\n",
       "      <td>00:00</td>\n",
       "    </tr>\n",
       "    <tr>\n",
       "      <td>3</td>\n",
       "      <td>50465.191406</td>\n",
       "      <td>53073.242188</td>\n",
       "      <td>00:00</td>\n",
       "    </tr>\n",
       "    <tr>\n",
       "      <td>4</td>\n",
       "      <td>50478.695312</td>\n",
       "      <td>54570.285156</td>\n",
       "      <td>00:00</td>\n",
       "    </tr>\n",
       "    <tr>\n",
       "      <td>5</td>\n",
       "      <td>50716.554688</td>\n",
       "      <td>52787.753906</td>\n",
       "      <td>00:00</td>\n",
       "    </tr>\n",
       "    <tr>\n",
       "      <td>6</td>\n",
       "      <td>50736.613281</td>\n",
       "      <td>51426.019531</td>\n",
       "      <td>00:00</td>\n",
       "    </tr>\n",
       "    <tr>\n",
       "      <td>7</td>\n",
       "      <td>50174.648438</td>\n",
       "      <td>51587.589844</td>\n",
       "      <td>00:00</td>\n",
       "    </tr>\n",
       "    <tr>\n",
       "      <td>8</td>\n",
       "      <td>49737.929688</td>\n",
       "      <td>52092.453125</td>\n",
       "      <td>00:00</td>\n",
       "    </tr>\n",
       "    <tr>\n",
       "      <td>9</td>\n",
       "      <td>49484.867188</td>\n",
       "      <td>52179.929688</td>\n",
       "      <td>00:00</td>\n",
       "    </tr>\n",
       "  </tbody>\n",
       "</table>"
      ],
      "text/plain": [
       "<IPython.core.display.HTML object>"
      ]
     },
     "metadata": {},
     "output_type": "display_data"
    }
   ],
   "source": [
    "learn.fit_one_cycle(10, 1e-2)"
   ]
  },
  {
   "cell_type": "code",
   "execution_count": 148,
   "metadata": {},
   "outputs": [
    {
     "data": {
      "text/plain": [
       "Path('TabDataBunch/models/stage-0.pth')"
      ]
     },
     "execution_count": 148,
     "metadata": {},
     "output_type": "execute_result"
    }
   ],
   "source": [
    "learn.save('stage-0')"
   ]
  },
  {
   "cell_type": "code",
   "execution_count": 149,
   "metadata": {},
   "outputs": [
    {
     "data": {
      "text/html": [
       "\n",
       "<style>\n",
       "    /* Turns off some styling */\n",
       "    progress {\n",
       "        /* gets rid of default border in Firefox and Opera. */\n",
       "        border: none;\n",
       "        /* Needs to be in here for Safari polyfill so background images work as expected. */\n",
       "        background-size: auto;\n",
       "    }\n",
       "    progress:not([value]), progress:not([value])::-webkit-progress-bar {\n",
       "        background: repeating-linear-gradient(45deg, #7e7e7e, #7e7e7e 10px, #5c5c5c 10px, #5c5c5c 20px);\n",
       "    }\n",
       "    .progress-bar-interrupted, .progress-bar-interrupted::-webkit-progress-bar {\n",
       "        background: #F44336;\n",
       "    }\n",
       "</style>\n"
      ],
      "text/plain": [
       "<IPython.core.display.HTML object>"
      ]
     },
     "metadata": {},
     "output_type": "display_data"
    },
    {
     "data": {
      "text/html": [],
      "text/plain": [
       "<IPython.core.display.HTML object>"
      ]
     },
     "metadata": {},
     "output_type": "display_data"
    },
    {
     "data": {
      "text/html": [
       "<table border=\"1\" class=\"dataframe\">\n",
       "  <thead>\n",
       "    <tr style=\"text-align: right;\">\n",
       "      <th></th>\n",
       "      <th>start_x</th>\n",
       "      <th>start_y</th>\n",
       "      <th>end_x</th>\n",
       "      <th>end_y</th>\n",
       "      <th>num_moves</th>\n",
       "      <th>time</th>\n",
       "      <th>num_moves_pred</th>\n",
       "      <th>time_pred</th>\n",
       "    </tr>\n",
       "  </thead>\n",
       "  <tbody>\n",
       "    <tr>\n",
       "      <th>0</th>\n",
       "      <td>-0.289895</td>\n",
       "      <td>-0.665792</td>\n",
       "      <td>-0.316194</td>\n",
       "      <td>-0.489523</td>\n",
       "      <td>56.0</td>\n",
       "      <td>0.403262</td>\n",
       "      <td>157.318695</td>\n",
       "      <td>1.397461</td>\n",
       "    </tr>\n",
       "    <tr>\n",
       "      <th>1</th>\n",
       "      <td>0.151936</td>\n",
       "      <td>0.095110</td>\n",
       "      <td>-0.306092</td>\n",
       "      <td>-0.622915</td>\n",
       "      <td>167.0</td>\n",
       "      <td>0.569008</td>\n",
       "      <td>442.848145</td>\n",
       "      <td>1.909898</td>\n",
       "    </tr>\n",
       "    <tr>\n",
       "      <th>2</th>\n",
       "      <td>0.679235</td>\n",
       "      <td>-0.574165</td>\n",
       "      <td>-0.093961</td>\n",
       "      <td>0.027879</td>\n",
       "      <td>704.0</td>\n",
       "      <td>3.238691</td>\n",
       "      <td>513.929016</td>\n",
       "      <td>2.188005</td>\n",
       "    </tr>\n",
       "    <tr>\n",
       "      <th>3</th>\n",
       "      <td>-0.143584</td>\n",
       "      <td>-0.343106</td>\n",
       "      <td>-0.179102</td>\n",
       "      <td>-0.622915</td>\n",
       "      <td>131.0</td>\n",
       "      <td>0.435849</td>\n",
       "      <td>226.527237</td>\n",
       "      <td>1.652609</td>\n",
       "    </tr>\n",
       "    <tr>\n",
       "      <th>4</th>\n",
       "      <td>0.625636</td>\n",
       "      <td>-0.912787</td>\n",
       "      <td>0.667978</td>\n",
       "      <td>-0.990755</td>\n",
       "      <td>511.0</td>\n",
       "      <td>5.142815</td>\n",
       "      <td>184.065033</td>\n",
       "      <td>1.500085</td>\n",
       "    </tr>\n",
       "    <tr>\n",
       "      <th>5</th>\n",
       "      <td>-1.057665</td>\n",
       "      <td>-0.765387</td>\n",
       "      <td>-0.760658</td>\n",
       "      <td>-0.178274</td>\n",
       "      <td>657.0</td>\n",
       "      <td>3.709952</td>\n",
       "      <td>344.964783</td>\n",
       "      <td>1.709237</td>\n",
       "    </tr>\n",
       "    <tr>\n",
       "      <th>6</th>\n",
       "      <td>-0.233398</td>\n",
       "      <td>0.358039</td>\n",
       "      <td>-0.511008</td>\n",
       "      <td>2.040893</td>\n",
       "      <td>209.0</td>\n",
       "      <td>0.799949</td>\n",
       "      <td>489.330872</td>\n",
       "      <td>2.278776</td>\n",
       "    </tr>\n",
       "    <tr>\n",
       "      <th>7</th>\n",
       "      <td>-0.256576</td>\n",
       "      <td>-0.323187</td>\n",
       "      <td>-0.461943</td>\n",
       "      <td>2.319805</td>\n",
       "      <td>378.0</td>\n",
       "      <td>0.711155</td>\n",
       "      <td>629.699707</td>\n",
       "      <td>2.456751</td>\n",
       "    </tr>\n",
       "    <tr>\n",
       "      <th>8</th>\n",
       "      <td>-0.946121</td>\n",
       "      <td>-0.223593</td>\n",
       "      <td>-0.339283</td>\n",
       "      <td>0.141060</td>\n",
       "      <td>539.0</td>\n",
       "      <td>1.006221</td>\n",
       "      <td>464.359863</td>\n",
       "      <td>1.766868</td>\n",
       "    </tr>\n",
       "  </tbody>\n",
       "</table>"
      ],
      "text/plain": [
       "<IPython.core.display.HTML object>"
      ]
     },
     "metadata": {},
     "output_type": "display_data"
    }
   ],
   "source": [
    "learn.show_results()"
   ]
  },
  {
   "cell_type": "code",
   "execution_count": null,
   "metadata": {
    "id": "9oXXbyGJPSqH"
   },
   "outputs": [],
   "source": [
    "\n",
    "path = Path(f'./data/wiki_urls/{item_name}')\n",
    "trimmed_df['date_obj'] = trimmed_df.index\n",
    "trimmed_df['date_obj'] = trimmed_df['date_obj'].apply(lambda x: pd.to_datetime(x))\n",
    "time_trimmed_df = trimmed_df.loc[trimmed_df['date_obj'] > pd.to_datetime('2018-05-01')]\n",
    "time_trimmed_df[item_name].plot()\n",
    "time_trimmed_df = time_trimmed_df.drop(columns=['date_obj'], axis=1)\n",
    "trimmed_df = time_trimmed_df\n",
    " \n",
    "df = trimmed_df\n",
    "df\n",
    "data = TabularDataBunch.from_df(path, df, dep_var, valid_idx=valid_idx, procs=procs, cat_names=[])\n",
    "learn = tabular_learner(data, layers=[500,100], emb_szs={'native-country': 10}, metrics=mean_squared_error)\n",
    "data.show_batch()\n",
    "learn.save('stage-0')\n",
    " \n",
    "learn.lr_find(end_lr=1e3)\n",
    "learn.recorder.plot()\n",
    "learn.fit_one_cycle(5, max_lr=1e-2)\n",
    "learn.fit_one_cycle(5, max_lr=1e-2)\n",
    "learn.show_results(ds_type=DatasetType.Train)\n",
    "learn.save('stage-1')\n",
    "learn = learn.load('stage-1')\n",
    "learn.lr_find()\n",
    "learn.recorder.plot()\n",
    "learn.fit_one_cycle(5, 3e-5)\n",
    "learn.show_results(ds_type=DatasetType.Train)\n",
    "learn.save('stage-2')\n",
    "learn.lr_find()\n",
    "learn.recorder.plot()\n",
    " \n",
    "learn.fit_one_cycle(5, 3e-6)\n",
    "learn.save('stage-3')\n",
    "learn.show_results(ds_type=DatasetType.Train)\n",
    "learn.lr_find()\n",
    "learn.recorder.plot()\n",
    "learn.fit_one_cycle(5, 3e-4)\n",
    "learn.save('stage-4')\n",
    "learn.lr_find(end_lr=1e2)\n",
    "learn.recorder.plot()\n",
    "learn.show_results(ds_type=DatasetType.Train)\n",
    "learn.fit_one_cycle(10, 1e-4)\n",
    "learn = learn.load('stage-4')\n",
    "learn.show_results(ds_type=DatasetType.Train)"
   ]
  },
  {
   "cell_type": "markdown",
   "metadata": {
    "id": "izWlh54VI4Rb"
   },
   "source": []
  },
  {
   "cell_type": "code",
   "execution_count": 153,
   "metadata": {
    "scrolled": true
   },
   "outputs": [
    {
     "data": {
      "text/html": [
       "<div>\n",
       "<style scoped>\n",
       "    .dataframe tbody tr th:only-of-type {\n",
       "        vertical-align: middle;\n",
       "    }\n",
       "\n",
       "    .dataframe tbody tr th {\n",
       "        vertical-align: top;\n",
       "    }\n",
       "\n",
       "    .dataframe thead th {\n",
       "        text-align: right;\n",
       "    }\n",
       "</style>\n",
       "<table border=\"1\" class=\"dataframe\">\n",
       "  <thead>\n",
       "    <tr style=\"text-align: right;\">\n",
       "      <th></th>\n",
       "      <th>endpoints</th>\n",
       "      <th>moves</th>\n",
       "      <th>num_moves</th>\n",
       "      <th>time</th>\n",
       "      <th>distance</th>\n",
       "      <th>start_x</th>\n",
       "      <th>start_y</th>\n",
       "      <th>end_x</th>\n",
       "      <th>end_y</th>\n",
       "    </tr>\n",
       "  </thead>\n",
       "  <tbody>\n",
       "    <tr>\n",
       "      <th>0</th>\n",
       "      <td>[(2012.0, 1037.0), (3749.0, 18.0)]</td>\n",
       "      <td>[(2012.0, 1037.0, 0.0), (2011.0, 1037.0, 0.10077786445617676), (2012.0, 1037.0, 0.27376604080200195), (2012.0, 1037.0, 0.2845008373260498), (2013.0, 1037.0, 0.2907142639160156), (2014.0, 1037.0, 0.2966609001159668), (2014.0, 1036.0, 0.2974541187286377), (2016.0, 1036.0, 0.30153536796569824), (2017.0, 1036.0, 0.3076975345629762), (2018.0, 1036.0, 0.3116309642791748), (2018.0, 1035.0, 0.3124566078186035), (2019.0, 1035.0, 0.3165128231066774), (2020.0, 1035.0, 0.32151174545469985), (2021.0, 1035.0, 0.3266334533691406), (2021.0, 1034.0, 0.3285355567950319), (2022.0, 1034.0, 0.33249807357788086...</td>\n",
       "      <td>644</td>\n",
       "      <td>1.636974</td>\n",
       "      <td>2013.834651</td>\n",
       "      <td>2012.0</td>\n",
       "      <td>1037.0</td>\n",
       "      <td>3749.0</td>\n",
       "      <td>18.0</td>\n",
       "    </tr>\n",
       "    <tr>\n",
       "      <th>1</th>\n",
       "      <td>[(3749.0, 18.0), (2703.0, 687.0)]</td>\n",
       "      <td>[(3749.0, 18.0, 0.0), (3749.0, 18.0, 0.4386763572692871), (3748.0, 18.0, 0.4486064910888672), (3747.0, 19.0, 0.45251107216063247), (3746.0, 19.0, 0.45662569999694824), (3745.0, 20.0, 0.45937085151672363), (3744.0, 20.0, 0.4617609977722168), (3744.0, 21.0, 0.4624443054199219), (3743.0, 21.0, 0.46344971656799316), (3741.0, 22.0, 0.4654748439807008), (3740.0, 22.0, 0.46753525733947754), (3739.0, 23.0, 0.46964049339294434), (3738.0, 23.0, 0.4714946746844362), (3737.0, 25.0, 0.47246408462342515), (3736.0, 25.0, 0.47480273246765137), (3736.0, 26.0, 0.4754676818847656), (3734.0, 26.0, 0.476455688...</td>\n",
       "      <td>982</td>\n",
       "      <td>4.342829</td>\n",
       "      <td>1241.642863</td>\n",
       "      <td>3749.0</td>\n",
       "      <td>18.0</td>\n",
       "      <td>2703.0</td>\n",
       "      <td>687.0</td>\n",
       "    </tr>\n",
       "    <tr>\n",
       "      <th>3</th>\n",
       "      <td>[(1743.0, 342.0), (2840.0, 702.0)]</td>\n",
       "      <td>[(1743.0, 342.0, 0.0), (1743.0, 342.0, 0.20471119880858168), (1743.0, 343.0, 0.20708179474058852), (1744.0, 343.0, 0.21051526069823012), (1744.0, 344.0, 0.21251559257689223), (1745.0, 344.0, 0.2167360782641481), (1746.0, 345.0, 0.21954917907896743), (1747.0, 345.0, 0.22363018989744887), (1747.0, 346.0, 0.2245020866412233), (1748.0, 346.0, 0.22618484497252211), (1749.0, 346.0, 0.2295238971728395), (1749.0, 347.0, 0.23148679733458266), (1750.0, 347.0, 0.23244905471983657), (1752.0, 347.0, 0.23453927040281997), (1753.0, 348.0, 0.23651909828549833), (1754.0, 348.0, 0.23959994316282973), (1755....</td>\n",
       "      <td>822</td>\n",
       "      <td>1.587966</td>\n",
       "      <td>1154.560089</td>\n",
       "      <td>1743.0</td>\n",
       "      <td>342.0</td>\n",
       "      <td>2840.0</td>\n",
       "      <td>702.0</td>\n",
       "    </tr>\n",
       "    <tr>\n",
       "      <th>4</th>\n",
       "      <td>[(2840.0, 702.0), (1815.0, 570.0)]</td>\n",
       "      <td>[(2840.0, 702.0, 0.0), (2840.0, 702.0, 0.2697141170501709), (2840.0, 701.0, 0.28260087966737046), (2839.0, 701.0, 0.291576623916626), (2839.0, 700.0, 0.30771398544311523), (2839.0, 699.0, 0.3527102470397949), (2839.0, 699.0, 0.37573742866334214), (2839.0, 698.0, 0.3765428066253662), (2839.0, 697.0, 0.3957047462481569), (2839.0, 696.0, 0.40970730781555176), (2838.0, 696.0, 0.4125783443432738), (2838.0, 695.0, 0.424640417098999), (2838.0, 694.0, 0.44215083122435317), (2837.0, 694.0, 0.44252443313598633), (2837.0, 693.0, 0.456679105758667), (2837.0, 692.0, 0.47074079513549805), (2836.0, 692.0...</td>\n",
       "      <td>788</td>\n",
       "      <td>4.060469</td>\n",
       "      <td>1033.464562</td>\n",
       "      <td>2840.0</td>\n",
       "      <td>702.0</td>\n",
       "      <td>1815.0</td>\n",
       "      <td>570.0</td>\n",
       "    </tr>\n",
       "    <tr>\n",
       "      <th>5</th>\n",
       "      <td>[(1815.0, 570.0), (1409.0, 404.0)]</td>\n",
       "      <td>[(1815.0, 570.0, 0.0), (1814.0, 570.0, 0.23315978050231934), (1813.0, 570.0, 0.2360227107983519), (1812.0, 570.0, 0.2400035858154297), (1811.0, 570.0, 0.2419455051440309), (1810.0, 569.0, 0.24392390251159668), (1809.0, 569.0, 0.24735379219055176), (1808.0, 569.0, 0.24746918678283691), (1808.0, 568.0, 0.2478656768798828), (1806.0, 568.0, 0.24885892867860093), (1805.0, 568.0, 0.24986839294251695), (1804.0, 566.0, 0.2509012222290039), (1803.0, 566.0, 0.25295114517030015), (1801.0, 565.0, 0.2550358772277832), (1800.0, 565.0, 0.2551708221435547), (1799.0, 564.0, 0.25591564178466797), (1797.0, 5...</td>\n",
       "      <td>326</td>\n",
       "      <td>1.348332</td>\n",
       "      <td>438.625125</td>\n",
       "      <td>1815.0</td>\n",
       "      <td>570.0</td>\n",
       "      <td>1409.0</td>\n",
       "      <td>404.0</td>\n",
       "    </tr>\n",
       "  </tbody>\n",
       "</table>\n",
       "</div>"
      ],
      "text/plain": [
       "                            endpoints  \\\n",
       "0  [(2012.0, 1037.0), (3749.0, 18.0)]   \n",
       "1   [(3749.0, 18.0), (2703.0, 687.0)]   \n",
       "3  [(1743.0, 342.0), (2840.0, 702.0)]   \n",
       "4  [(2840.0, 702.0), (1815.0, 570.0)]   \n",
       "5  [(1815.0, 570.0), (1409.0, 404.0)]   \n",
       "\n",
       "                                                                                                                                                                                                                                                                                                                                                                                                                                                                                                                                                                                                                     moves  \\\n",
       "0  [(2012.0, 1037.0, 0.0), (2011.0, 1037.0, 0.10077786445617676), (2012.0, 1037.0, 0.27376604080200195), (2012.0, 1037.0, 0.2845008373260498), (2013.0, 1037.0, 0.2907142639160156), (2014.0, 1037.0, 0.2966609001159668), (2014.0, 1036.0, 0.2974541187286377), (2016.0, 1036.0, 0.30153536796569824), (2017.0, 1036.0, 0.3076975345629762), (2018.0, 1036.0, 0.3116309642791748), (2018.0, 1035.0, 0.3124566078186035), (2019.0, 1035.0, 0.3165128231066774), (2020.0, 1035.0, 0.32151174545469985), (2021.0, 1035.0, 0.3266334533691406), (2021.0, 1034.0, 0.3285355567950319), (2022.0, 1034.0, 0.33249807357788086...   \n",
       "1  [(3749.0, 18.0, 0.0), (3749.0, 18.0, 0.4386763572692871), (3748.0, 18.0, 0.4486064910888672), (3747.0, 19.0, 0.45251107216063247), (3746.0, 19.0, 0.45662569999694824), (3745.0, 20.0, 0.45937085151672363), (3744.0, 20.0, 0.4617609977722168), (3744.0, 21.0, 0.4624443054199219), (3743.0, 21.0, 0.46344971656799316), (3741.0, 22.0, 0.4654748439807008), (3740.0, 22.0, 0.46753525733947754), (3739.0, 23.0, 0.46964049339294434), (3738.0, 23.0, 0.4714946746844362), (3737.0, 25.0, 0.47246408462342515), (3736.0, 25.0, 0.47480273246765137), (3736.0, 26.0, 0.4754676818847656), (3734.0, 26.0, 0.476455688...   \n",
       "3  [(1743.0, 342.0, 0.0), (1743.0, 342.0, 0.20471119880858168), (1743.0, 343.0, 0.20708179474058852), (1744.0, 343.0, 0.21051526069823012), (1744.0, 344.0, 0.21251559257689223), (1745.0, 344.0, 0.2167360782641481), (1746.0, 345.0, 0.21954917907896743), (1747.0, 345.0, 0.22363018989744887), (1747.0, 346.0, 0.2245020866412233), (1748.0, 346.0, 0.22618484497252211), (1749.0, 346.0, 0.2295238971728395), (1749.0, 347.0, 0.23148679733458266), (1750.0, 347.0, 0.23244905471983657), (1752.0, 347.0, 0.23453927040281997), (1753.0, 348.0, 0.23651909828549833), (1754.0, 348.0, 0.23959994316282973), (1755....   \n",
       "4  [(2840.0, 702.0, 0.0), (2840.0, 702.0, 0.2697141170501709), (2840.0, 701.0, 0.28260087966737046), (2839.0, 701.0, 0.291576623916626), (2839.0, 700.0, 0.30771398544311523), (2839.0, 699.0, 0.3527102470397949), (2839.0, 699.0, 0.37573742866334214), (2839.0, 698.0, 0.3765428066253662), (2839.0, 697.0, 0.3957047462481569), (2839.0, 696.0, 0.40970730781555176), (2838.0, 696.0, 0.4125783443432738), (2838.0, 695.0, 0.424640417098999), (2838.0, 694.0, 0.44215083122435317), (2837.0, 694.0, 0.44252443313598633), (2837.0, 693.0, 0.456679105758667), (2837.0, 692.0, 0.47074079513549805), (2836.0, 692.0...   \n",
       "5  [(1815.0, 570.0, 0.0), (1814.0, 570.0, 0.23315978050231934), (1813.0, 570.0, 0.2360227107983519), (1812.0, 570.0, 0.2400035858154297), (1811.0, 570.0, 0.2419455051440309), (1810.0, 569.0, 0.24392390251159668), (1809.0, 569.0, 0.24735379219055176), (1808.0, 569.0, 0.24746918678283691), (1808.0, 568.0, 0.2478656768798828), (1806.0, 568.0, 0.24885892867860093), (1805.0, 568.0, 0.24986839294251695), (1804.0, 566.0, 0.2509012222290039), (1803.0, 566.0, 0.25295114517030015), (1801.0, 565.0, 0.2550358772277832), (1800.0, 565.0, 0.2551708221435547), (1799.0, 564.0, 0.25591564178466797), (1797.0, 5...   \n",
       "\n",
       "   num_moves      time     distance  start_x  start_y   end_x  end_y  \n",
       "0        644  1.636974  2013.834651   2012.0   1037.0  3749.0   18.0  \n",
       "1        982  4.342829  1241.642863   3749.0     18.0  2703.0  687.0  \n",
       "3        822  1.587966  1154.560089   1743.0    342.0  2840.0  702.0  \n",
       "4        788  4.060469  1033.464562   2840.0    702.0  1815.0  570.0  \n",
       "5        326  1.348332   438.625125   1815.0    570.0  1409.0  404.0  "
      ]
     },
     "execution_count": 153,
     "metadata": {},
     "output_type": "execute_result"
    }
   ],
   "source": [
    "trimmed_df.head()"
   ]
  },
  {
   "cell_type": "code",
   "execution_count": 154,
   "metadata": {},
   "outputs": [
    {
     "data": {
      "text/plain": [
       "fastai.learner.Learner"
      ]
     },
     "execution_count": 154,
     "metadata": {},
     "output_type": "execute_result"
    }
   ],
   "source": [
    "Learner"
   ]
  },
  {
   "cell_type": "code",
   "execution_count": null,
   "metadata": {},
   "outputs": [],
   "source": []
  }
 ],
 "metadata": {
  "colab": {
   "collapsed_sections": [],
   "name": "mouse_scratch.ipynb",
   "provenance": []
  },
  "kernelspec": {
   "display_name": "Python 3 (ipykernel)",
   "language": "python",
   "name": "python3"
  },
  "language_info": {
   "codemirror_mode": {
    "name": "ipython",
    "version": 3
   },
   "file_extension": ".py",
   "mimetype": "text/x-python",
   "name": "python",
   "nbconvert_exporter": "python",
   "pygments_lexer": "ipython3",
   "version": "3.9.13"
  }
 },
 "nbformat": 4,
 "nbformat_minor": 1
}
